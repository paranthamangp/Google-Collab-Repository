{
  "nbformat": 4,
  "nbformat_minor": 0,
  "metadata": {
    "colab": {
      "provenance": [],
      "authorship_tag": "ABX9TyPb80BGMNcJ/woGjbQVqZXD",
      "include_colab_link": true
    },
    "kernelspec": {
      "name": "python3",
      "display_name": "Python 3"
    },
    "language_info": {
      "name": "python"
    }
  },
  "cells": [
    {
      "cell_type": "markdown",
      "metadata": {
        "id": "view-in-github",
        "colab_type": "text"
      },
      "source": [
        "<a href=\"https://colab.research.google.com/github/paranthamangp/Google-Collab-Repository/blob/main/1_SendTelegramMessage.ipynb\" target=\"_parent\"><img src=\"https://colab.research.google.com/assets/colab-badge.svg\" alt=\"Open In Colab\"/></a>"
      ]
    },
    {
      "cell_type": "code",
      "source": [
        "import requests\n",
        "\n",
        "# Replace 'YOUR_TELEGRAM_TOKEN' and 'YOUR_CHAT_ID' with your actual token and chat ID\n",
        "telegram_token = 'Token'\n",
        "chat_id = 'clientid'\n",
        "\n",
        "def send_telegram_message(message):\n",
        "    url = f'https://api.telegram.org/bot{telegram_token}/sendMessage'\n",
        "    payload = {\n",
        "        'chat_id': chat_id,\n",
        "        'text': message\n",
        "    }\n",
        "    response = requests.post(url, json=payload)\n",
        "    return response\n",
        "\n",
        "# Example: Send a notification\n",
        "send_telegram_message('Message from Collab Google - API call')"
      ],
      "metadata": {
        "colab": {
          "base_uri": "https://localhost:8080/"
        },
        "id": "os5-WG55Se9m",
        "outputId": "1b62bbb2-2ec6-44ab-fb11-063bc3ac20bb"
      },
      "execution_count": null,
      "outputs": [
        {
          "output_type": "execute_result",
          "data": {
            "text/plain": [
              "<Response [200]>"
            ]
          },
          "metadata": {},
          "execution_count": 1
        }
      ]
    }
  ]
}