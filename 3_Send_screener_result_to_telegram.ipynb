{
  "nbformat": 4,
  "nbformat_minor": 0,
  "metadata": {
    "colab": {
      "provenance": [],
      "authorship_tag": "ABX9TyOm58j5JM7SiRjvM4paE0/9",
      "include_colab_link": true
    },
    "kernelspec": {
      "name": "python3",
      "display_name": "Python 3"
    },
    "language_info": {
      "name": "python"
    }
  },
  "cells": [
    {
      "cell_type": "markdown",
      "metadata": {
        "id": "view-in-github",
        "colab_type": "text"
      },
      "source": [
        "<a href=\"https://colab.research.google.com/github/paranthamangp/Google-Collab-Repository/blob/main/3_Send_screener_result_to_telegram.ipynb\" target=\"_parent\"><img src=\"https://colab.research.google.com/assets/colab-badge.svg\" alt=\"Open In Colab\"/></a>"
      ]
    },
    {
      "cell_type": "code",
      "execution_count": 4,
      "metadata": {
        "colab": {
          "base_uri": "https://localhost:8080/"
        },
        "id": "vQeJfW9FWzlF",
        "outputId": "e3b3ce4f-c378-4fd1-aedd-56be445304ad"
      },
      "outputs": [
        {
          "output_type": "stream",
          "name": "stdout",
          "text": [
            "Stocks from Screener : \n",
            "     Price StockCode                   StockName  Percentage\n",
            "0  5431.15   THERMAX             Thermax Limited        4.77\n",
            "1  5080.00    CRISIL              Crisil Limited       -0.08\n",
            "2  1743.40  HDFCBANK           Hdfc Bank Limited       -0.36\n",
            "3   656.60      DYCL          Dynamic Cables Ltd        1.08\n",
            "4   533.35    SIYSIL  Siyaram Silk Mills Limited       -0.93\n",
            "5   448.75   ASTERDM     Aster DM Healthcare Ltd        1.20\n",
            "6   274.45       PAR   Par Drugs & Chemicals Ltd       -4.04\n"
          ]
        }
      ],
      "source": [
        "'''\n",
        "Fetch screener result using Python -\n",
        "\n",
        "Technical - Data comes from a POST request.\n",
        "You simply need to pick up\n",
        "    (a) one cookie (ci_session - which can be done using Session object to hold cookies from initial landing page request to pass on with subsequent POST),\n",
        "    (b) and one token (X-CSRF-TOKEN - which can be pulled from a meta tag in the initial request response):\n",
        "\n",
        "Steps:\n",
        "    (1) Get the screener URL and load it with Inspect element\n",
        "    (2) Open Network tab & find \"process\"\n",
        "    (3) Load Payload table and copy the scan_clause. Example below\n",
        "        ( {cash} ( weekly close > weekly sma( weekly close , 21 ) and weekly close > weekly sma( weekly close , 63 ) and weekly rsi( 14 ) > 60 and 1 week ago rsi( 14 ) < 60 and market cap < 200000000000 and latest open > 200 and latest volume > 5000 ) )\n",
        "    (4) Update the condition in below script\n",
        "\n",
        "Example: Get CIS stock list from Screener and print as table\n",
        "'''\n",
        "\n",
        "# mandatory  library\n",
        "import pandas as pd\n",
        "import requests\n",
        "from bs4 import BeautifulSoup as bs\n",
        "from datetime import datetime\n",
        "import requests\n",
        "import pytz\n",
        "\n",
        "#Get IST timezone\n",
        "IST = pytz.timezone('Asia/Kolkata')\n",
        "\n",
        "url = \"https://chartink.com/screener/process\"\n",
        "\n",
        "# Replace 'YOUR_TELEGRAM_TOKEN' and 'YOUR_CHAT_ID' with your actual token and chat ID\n",
        "#telegram_token = 'Token'\n",
        "#chat_id = 'clientid'\n",
        "\n",
        "\n",
        "# Get CIS stocks list query\n",
        "condition = {\"scan_clause\": \"( {cash} ( weekly close > weekly sma( weekly close , 21 ) and weekly close > weekly sma( weekly close , 63 ) and weekly rsi( 14 ) > 60 and 1 week ago rsi( 14 ) < 60 and market cap < 200000000000 and latest open > 200 and latest volume > 5000 ) )\"}\n",
        "\n",
        "# Get Cash / Nifty 500 stocks with daily RSI below 30\n",
        "#condition = {\"scan_clause\":\"( {57960} ( latest volume > latest sma( volume,10 ) * 1.5 and latest close > 200 and latest rsi( 14 ) < 30 and 1 day ago  rsi( 14 ) >= 30 ) ) \"}\n",
        "\n",
        "with requests.session() as s:\n",
        "    r_data = s.get(url)\n",
        "    soup = bs(r_data.content, \"lxml\")\n",
        "\n",
        "    #get CSRF token from browser for Chartink Validation\n",
        "    meta = soup.find(\"meta\", {\"name\" : \"csrf-token\"})[\"content\"]\n",
        "    header = {\"x-csrf-token\" : meta}\n",
        "\n",
        "    #make POST call to API\n",
        "    data = s.post(url, headers=header, data=condition).json()\n",
        "    screenerStockList = pd.DataFrame(data[\"data\"])\n",
        "\n",
        "    #Remove unwanted columns\n",
        "    screenerStockList = screenerStockList.drop(columns=['sr', 'bsecode','volume'])\n",
        "    screenerStockList = screenerStockList.filter(['close','nsecode','name','per_chg'])\n",
        "    screenerStockList.rename(columns={'nsecode': 'StockCode', 'name': 'StockName','per_chg':'Percentage','close':'Price'}, inplace=True)\n",
        "\n",
        "    #Print final stock list\n",
        "    print(\"Stocks from Screener : \")\n",
        "    print(screenerStockList)\n",
        "\n",
        "    #Send result to telegram\n",
        "    url = f'https://api.telegram.org/bot{telegram_token}/sendMessage'\n",
        "    MessageToBeSent = 'CIS Screener result '+datetime.now(IST).strftime('%Y-%m-%d %H:%M:%S' )+ '\\n' +'\\n' + screenerStockList.to_string()\n",
        "    payload = {\n",
        "        'chat_id': chat_id,\n",
        "        'text': MessageToBeSent\n",
        "    }\n",
        "    response = requests.post(url, json=payload)\n",
        ""
      ]
    },
    {
      "cell_type": "code",
      "source": [
        ""
      ],
      "metadata": {
        "id": "kmTxHa2eX-Yl"
      },
      "execution_count": null,
      "outputs": []
    }
  ]
}